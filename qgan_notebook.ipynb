{
  "nbformat": 4,
  "nbformat_minor": 0,
  "metadata": {
    "colab": {
      "provenance": []
    },
    "kernelspec": {
      "name": "python3",
      "display_name": "Python 3"
    },
    "language_info": {
      "name": "python"
    }
  },
  "cells": [
    {
      "cell_type": "markdown",
      "source": [
        "# Quantum Generative Adversarial Network (QGAN) Examples\n",
        "\n",
        "This folder contains examples demonstrating the implementation of a Quantum Generative Adversarial Network (QGAN) using PyTorch and TorchQuantum.\n",
        "\n",
        "## Contents\n",
        "\n",
        "- `qgan_script.py`: Python script implementing the QGAN model.\n",
        "- `qgan_notebook.ipynb`: Jupyter Notebook providing interactive examples of the QGAN model.\n",
        "\n",
        "## Description\n",
        "\n",
        "The QGAN model consists of a generator and a discriminator, both implemented as neural networks. The generator produces fake quantum data samples, while the discriminator tries to distinguish between real and fake samples. The two networks are trained adversarially, resulting in the generator learning to produce realistic quantum data.\n",
        "\n",
        "## Usage\n",
        "\n",
        "To run the examples:\n",
        "\n",
        "1. Open `qgan_notebook.ipynb` in Jupyter Notebook.\n",
        "2. Execute the notebook cells to see the QGAN model in action.\n",
        "3. You can interactively change the number of qubits and latent dimensions to explore different configurations.\n",
        "\n",
        "For more details, refer to the code and comments in the Python script and notebook.\n"
      ],
      "metadata": {
        "id": "jh1pLxRCVWFZ"
      }
    },
    {
      "cell_type": "code",
      "source": [
        "import torch\n",
        "import torch.nn as nn\n",
        "import torch.optim as optim\n",
        "import torchquantum as tq\n",
        "\n",
        "class Generator(nn.Module):\n",
        "    def __init__(self, n_qubits: int, latent_dim: int):\n",
        "        super().__init__()\n",
        "        self.n_qubits = n_qubits\n",
        "        self.latent_dim = latent_dim\n",
        "\n",
        "        # Quantum encoder\n",
        "        self.encoder = tq.GeneralEncoder([\n",
        "            {'input_idx': [i], 'func': 'rx', 'wires': [i]}\n",
        "            for i in range(self.n_qubits)\n",
        "        ])\n",
        "\n",
        "        # RX gates\n",
        "        self.rxs = nn.ModuleList([\n",
        "            tq.RX(has_params=True, trainable=True) for _ in range(self.n_qubits)\n",
        "        ])\n",
        "\n",
        "    def forward(self, x):\n",
        "        qdev = tq.QuantumDevice(n_wires=self.n_qubits, bsz=x.shape[0], device=x.device)\n",
        "        self.encoder(qdev, x)\n",
        "\n",
        "        for i in range(self.n_qubits):\n",
        "            self.rxs[i](qdev, wires=i)\n",
        "\n",
        "        return tq.measure(qdev)\n",
        "\n",
        "class Discriminator(nn.Module):\n",
        "    def __init__(self, n_qubits: int):\n",
        "        super().__init__()\n",
        "        self.n_qubits = n_qubits\n",
        "\n",
        "        # Quantum encoder\n",
        "        self.encoder = tq.GeneralEncoder([\n",
        "            {'input_idx': [i], 'func': 'rx', 'wires': [i]}\n",
        "            for i in range(self.n_qubits)\n",
        "        ])\n",
        "\n",
        "        # RX gates\n",
        "        self.rxs = nn.ModuleList([\n",
        "            tq.RX(has_params=True, trainable=True) for _ in range(self.n_qubits)\n",
        "        ])\n",
        "\n",
        "        # Quantum measurement\n",
        "        self.measure = tq.MeasureAll(tq.PauliZ)\n",
        "\n",
        "    def forward(self, x):\n",
        "        qdev = tq.QuantumDevice(n_wires=self.n_qubits, bsz=x.shape[0], device=x.device)\n",
        "        self.encoder(qdev, x)\n",
        "\n",
        "        for i in range(self.n_qubits):\n",
        "            self.rxs[i](qdev, wires=i)\n",
        "\n",
        "        return self.measure(qdev)\n",
        "\n",
        "class QGAN(nn.Module):\n",
        "    def __init__(self, n_qubits: int, latent_dim: int):\n",
        "        super().__init__()\n",
        "        self.generator = Generator(n_qubits, latent_dim)\n",
        "        self.discriminator = Discriminator(n_qubits)\n",
        "\n",
        "    def forward(self, z):\n",
        "        fake_data = self.generator(z)\n",
        "        fake_output = self.discriminator(fake_data)\n",
        "        return fake_output\n"
      ],
      "metadata": {
        "id": "W-ZNc-ZoVDbh"
      },
      "execution_count": null,
      "outputs": []
    },
    {
      "cell_type": "code",
      "source": [
        "from ipywidgets import interact, IntSlider\n",
        "\n",
        "@interact(n_qubits=IntSlider(min=1, max=10, step=1, value=4), latent_dim=IntSlider(min=1, max=10, step=1, value=2))\n",
        "def create_model(n_qubits, latent_dim):\n",
        "    model = QGAN(n_qubits, latent_dim)\n",
        "    print(model)\n"
      ],
      "metadata": {
        "id": "CRwG47N0VGCB"
      },
      "execution_count": null,
      "outputs": []
    }
  ]
}